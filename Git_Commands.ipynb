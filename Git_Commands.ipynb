{
 "cells": [
  {
   "cell_type": "markdown",
   "metadata": {},
   "source": [
    "# Basic Git Commands in PowerShell on Windows\n",
    "\n",
    "This Jupyter Notebook serves as a guide for executing basic Git commands in PowerShell on a Windows machine. This guide assumes you have Python and pip installed, and you have a GitHub account ready for use."
   ]
  },
  {
   "cell_type": "markdown",
   "metadata": {},
   "source": [
    "## Table of Contents\n",
    "\n",
    "1. Install Git\n",
    "2. Create a New Directory on Windows Desktop\n",
    "3. Change to the New Directory\n",
    "4. Initialize the Directory with Git\n",
    "5. Connect Git to GitHub and Create a Remote Repository\n",
    "6. Create a Text File in the Directory\n",
    "7. Write a One-Sentence Message and Save the Text File\n",
    "8. Check Git Status\n",
    "9. Stage Changes\n",
    "10. Check Git Status Again\n",
    "11. Commit Changes\n",
    "12. Check Git Status Yet Again\n",
    "13. Push Commit"
   ]
  },
  {
   "cell_type": "markdown",
   "metadata": {},
   "source": [
    "## 1. Install Git\n",
    "\n",
    "### Description\n",
    "To interact with Git using PowerShell, you must first install Git on your machine.\n",
    "\n",
    "| Code Example       | Code Explanation                                |\n",
    "|--------------------|-------------------------------------------------|\n",
    "| `pip install git`  | Installs Git using pip"
   ]
  },
  {
   "cell_type": "markdown",
   "metadata": {},
   "source": [
    "## 2. Create New Directory on Windows Desktop\n",
    "\n",
    "### Description\n",
    "Create a new directory where you will store your project files.\n",
    "\n",
    "| Code Example                | Code Explanation                               |\n",
    "|-----------------------------|------------------------------------------------|\n",
    "| `cd ~\\Desktop`              | Navigate to the desktop                        |\n",
    "| `mkdir my_git_project`      | Create a new directory named 'my_git_project'  |\n",
    "\n",
    "---"
   ]
  },
  {
   "cell_type": "markdown",
   "metadata": {},
   "source": [
    "## 3. Change to the New Directory\n",
    "\n",
    "### Description\n",
    "Navigate to the newly created directory.\n",
    "\n",
    "| Code Example               | Code Explanation                              |\n",
    "|----------------------------|-----------------------------------------------|\n",
    "| `cd my_git_project`        | Change to the 'my_git_project' directory      |\n"
   ]
  },
  {
   "cell_type": "markdown",
   "metadata": {},
   "source": [
    "## 4. Initialize the Directory with Git\n",
    "\n",
    "### Description\n",
    "Initialize the directory as a Git repository.\n",
    "\n",
    "| Code Example       | Code Explanation                    |\n",
    "|--------------------|-------------------------------------|\n",
    "| `git init`         | Initialize a new Git repository     |"
   ]
  },
  {
   "cell_type": "markdown",
   "metadata": {},
   "source": [
    "## 5. Connect Git to GitHub and Create a Remote Repository\n",
    "\n",
    "### Description\n",
    "Connect the local repository to a remote repository on GitHub.\n",
    "\n",
    "| Code Example       | Code Explanation                                |\n",
    "|--------------------|-------------------------------------------------|\n",
    "| `git remote add origin https://github.com/your_username/your_repository_name.git` | Connect local repository to remote on GitHub |\n"
   ]
  },
  {
   "cell_type": "markdown",
   "metadata": {},
   "source": [
    "## 6. Create a Text File in the Directory\n",
    "\n",
    "### Description\n",
    "Create a text file to store a simple message.\n",
    "\n",
    "| Code Example       | Code Explanation                    |\n",
    "|--------------------|-------------------------------------|\n",
    "| `echo \"\" > my_message.txt` | Create a new text file named 'my_message.txt' |"
   ]
  },
  {
   "cell_type": "markdown",
   "metadata": {},
   "source": [
    "## 7. Write a One-Sentence Message and Save the Text File\n",
    "\n",
    "### Description\n",
    "Edit the text file and write a one-sentence message.\n",
    "\n",
    "### Code\n",
    "Open the text file manually using Notepad and write your message.\n"
   ]
  },
  {
   "cell_type": "markdown",
   "metadata": {},
   "source": [
    "## 8. Check Git Status\n",
    "\n",
    "### Description\n",
    "Check the status of your Git repository.\n",
    "\n",
    "| Code Example       | Code Explanation                    |\n",
    "|--------------------|-------------------------------------|\n",
    "| `git status`       | Show the status of changes          |"
   ]
  },
  {
   "cell_type": "markdown",
   "metadata": {},
   "source": [
    "## 9. Stage Changes\n",
    "\n",
    "### Description\n",
    "Stage the changes for commit.\n",
    "\n",
    "| Code Example       | Code Explanation                    |\n",
    "|--------------------|-------------------------------------|\n",
    "| `git add my_message.txt` | Stage the changes in 'my_message.txt' |"
   ]
  },
  {
   "cell_type": "markdown",
   "metadata": {},
   "source": [
    "\n",
    "## 10. Check Git Status Again\n",
    "\n",
    "### Description\n",
    "Confirm that your changes have been staged.\n",
    "\n",
    "| Code Example       | Code Explanation                    |\n",
    "|--------------------|-------------------------------------|\n",
    "| `git status`       | Show the status of changes          |"
   ]
  },
  {
   "cell_type": "markdown",
   "metadata": {},
   "source": [
    "## 11. Commit Changes\n",
    "\n",
    "### Description\n",
    "Commit the staged changes.\n",
    "\n",
    "| Code Example       | Code Explanation                                |\n",
    "|--------------------|-------------------------------------------------|\n",
    "| `git commit -m \"Added a message in my_message.txt\"` | Commit the staged changes with a message |"
   ]
  },
  {
   "cell_type": "markdown",
   "metadata": {},
   "source": [
    "## 12. Check Git Status Yet Again\n",
    "\n",
    "### Description\n",
    "Check the status one more time to make sure the commit was successful.\n",
    "\n",
    "| Code Example       | Code Explanation                    |\n",
    "|--------------------|-------------------------------------|\n",
    "| `git status`       | Show the status of changes          |"
   ]
  },
  {
   "cell_type": "markdown",
   "metadata": {},
   "source": [
    "## 13. Push Commit\n",
    "\n",
    "### Description\n",
    "Push the committed changes to the remote repository on GitHub.\n",
    "\n",
    "| Code Example       | Code Explanation                                |\n",
    "|--------------------|-------------------------------------------------|\n",
    "| `git push origin master` | Push changes to the 'master' branch on the remote GitHub repository |"
   ]
  },
  {
   "cell_type": "markdown",
   "metadata": {},
   "source": [
    "## Create, Modify, and Merge Branches in Git\n",
    "\n",
    "### Description\n",
    "Branching is a key aspect of Git that allows for non-linear development workflows. This enables you to isolate new features or experiments from your main project. This section will cover how to create a new branch, make changes to that branch, and then merge it back into the main branch.\n",
    "\n",
    "---\n",
    "\n",
    "### Create a New Branch\n",
    "\n",
    "| Code Example | Code Explanation |\n",
    "|--------------|------------------|\n",
    "| `git checkout -b feature-branch` | Creates a new branch named `feature-branch` and switches to it |\n",
    "\n",
    "---\n",
    "\n",
    "### Make Changes to the New Branch\n",
    "\n",
    "1. Modify files or add new files as you normally would.\n",
    "2. Stage and commit these changes to save them to the new branch.\n",
    "\n",
    "| Code Example | Code Explanation |\n",
    "|--------------|------------------|\n",
    "| `echo \"new feature\" > feature.txt` | Adds new content to a file called `feature.txt` |\n",
    "| `git add feature.txt` | Stages the changes in `feature.txt` |\n",
    "| `git commit -m \"Add new feature\"` | Commits the changes with a message |\n",
    "\n",
    "---\n",
    "\n",
    "### Switch Back to the Main Branch\n",
    "\n",
    "| Code Example | Code Explanation |\n",
    "|--------------|------------------|\n",
    "| `git checkout master` | Switches back to the `master` branch |\n",
    "\n",
    "---\n",
    "\n",
    "### Merge the New Branch into Main\n",
    "\n",
    "| Code Example | Code Explanation |\n",
    "|--------------|------------------|\n",
    "| `git merge feature-branch` | Merges changes from `feature-branch` into the `master` branch |\n",
    "\n",
    "---\n",
    "\n",
    "After completing these steps, the changes made in the `feature-branch` will be merged into the `master` branch, making them part of the main codebase.\n"
   ]
  }
 ],
 "metadata": {
  "kernelspec": {
   "display_name": "Python 3",
   "language": "python",
   "name": "python3"
  },
  "language_info": {
   "name": "python",
   "version": "3.9.9"
  },
  "orig_nbformat": 4
 },
 "nbformat": 4,
 "nbformat_minor": 2
}
